{
 "cells": [
  {
   "cell_type": "markdown",
   "metadata": {},
   "source": [
    "# Spurious Correlations in Highly Dimensional Big Data"
   ]
  },
  {
   "cell_type": "markdown",
   "metadata": {},
   "source": [
    "This Notebook aims at showing how PCA and Random Projection can solve the problem of spurious correlations in Big Data."
   ]
  },
  {
   "cell_type": "code",
   "execution_count": 1,
   "metadata": {},
   "outputs": [],
   "source": [
    "import numpy as np\n",
    "import pandas as pd\n",
    "from sklearn.decomposition import PCA\n",
    "from sklearn import random_projection\n",
    "from sklearn.utils import shuffle"
   ]
  },
  {
   "cell_type": "markdown",
   "metadata": {},
   "source": [
    "## DataFrame Creation"
   ]
  },
  {
   "cell_type": "code",
   "execution_count": 2,
   "metadata": {},
   "outputs": [
    {
     "data": {
      "text/html": [
       "<div>\n",
       "<style scoped>\n",
       "    .dataframe tbody tr th:only-of-type {\n",
       "        vertical-align: middle;\n",
       "    }\n",
       "\n",
       "    .dataframe tbody tr th {\n",
       "        vertical-align: top;\n",
       "    }\n",
       "\n",
       "    .dataframe thead th {\n",
       "        text-align: right;\n",
       "    }\n",
       "</style>\n",
       "<table border=\"1\" class=\"dataframe\">\n",
       "  <thead>\n",
       "    <tr style=\"text-align: right;\">\n",
       "      <th></th>\n",
       "      <th>0</th>\n",
       "      <th>1</th>\n",
       "      <th>2</th>\n",
       "      <th>3</th>\n",
       "      <th>4</th>\n",
       "      <th>5</th>\n",
       "      <th>6</th>\n",
       "      <th>7</th>\n",
       "      <th>8</th>\n",
       "      <th>9</th>\n",
       "      <th>...</th>\n",
       "      <th>99990</th>\n",
       "      <th>99991</th>\n",
       "      <th>99992</th>\n",
       "      <th>99993</th>\n",
       "      <th>99994</th>\n",
       "      <th>99995</th>\n",
       "      <th>99996</th>\n",
       "      <th>99997</th>\n",
       "      <th>99998</th>\n",
       "      <th>99999</th>\n",
       "    </tr>\n",
       "  </thead>\n",
       "  <tbody>\n",
       "    <tr>\n",
       "      <th>5777</th>\n",
       "      <td>0.013107</td>\n",
       "      <td>0.470582</td>\n",
       "      <td>0.782615</td>\n",
       "      <td>0.356561</td>\n",
       "      <td>0.713228</td>\n",
       "      <td>0.001639</td>\n",
       "      <td>0.531202</td>\n",
       "      <td>0.149542</td>\n",
       "      <td>0.238533</td>\n",
       "      <td>0.156730</td>\n",
       "      <td>...</td>\n",
       "      <td>0.014578</td>\n",
       "      <td>0.703602</td>\n",
       "      <td>0.121921</td>\n",
       "      <td>0.809777</td>\n",
       "      <td>0.141529</td>\n",
       "      <td>0.051837</td>\n",
       "      <td>0.615442</td>\n",
       "      <td>0.598923</td>\n",
       "      <td>0.463951</td>\n",
       "      <td>0.278275</td>\n",
       "    </tr>\n",
       "    <tr>\n",
       "      <th>3783</th>\n",
       "      <td>0.960434</td>\n",
       "      <td>0.443701</td>\n",
       "      <td>0.571535</td>\n",
       "      <td>0.813105</td>\n",
       "      <td>0.448731</td>\n",
       "      <td>0.292695</td>\n",
       "      <td>0.378250</td>\n",
       "      <td>0.988330</td>\n",
       "      <td>0.737386</td>\n",
       "      <td>0.240126</td>\n",
       "      <td>...</td>\n",
       "      <td>0.865072</td>\n",
       "      <td>0.048426</td>\n",
       "      <td>0.556778</td>\n",
       "      <td>0.939422</td>\n",
       "      <td>0.430007</td>\n",
       "      <td>0.304750</td>\n",
       "      <td>0.629446</td>\n",
       "      <td>0.784474</td>\n",
       "      <td>0.027791</td>\n",
       "      <td>0.411822</td>\n",
       "    </tr>\n",
       "    <tr>\n",
       "      <th>1295</th>\n",
       "      <td>0.145563</td>\n",
       "      <td>0.462142</td>\n",
       "      <td>0.170783</td>\n",
       "      <td>0.475111</td>\n",
       "      <td>0.200657</td>\n",
       "      <td>0.647372</td>\n",
       "      <td>0.260204</td>\n",
       "      <td>0.386845</td>\n",
       "      <td>0.420123</td>\n",
       "      <td>0.275254</td>\n",
       "      <td>...</td>\n",
       "      <td>0.038677</td>\n",
       "      <td>0.744098</td>\n",
       "      <td>0.731141</td>\n",
       "      <td>0.329909</td>\n",
       "      <td>0.280043</td>\n",
       "      <td>0.441809</td>\n",
       "      <td>0.997663</td>\n",
       "      <td>0.531609</td>\n",
       "      <td>0.461333</td>\n",
       "      <td>0.930565</td>\n",
       "    </tr>\n",
       "    <tr>\n",
       "      <th>838</th>\n",
       "      <td>0.415516</td>\n",
       "      <td>0.027677</td>\n",
       "      <td>0.297519</td>\n",
       "      <td>0.258756</td>\n",
       "      <td>0.415945</td>\n",
       "      <td>0.530397</td>\n",
       "      <td>0.204964</td>\n",
       "      <td>0.330645</td>\n",
       "      <td>0.675209</td>\n",
       "      <td>0.114403</td>\n",
       "      <td>...</td>\n",
       "      <td>0.305023</td>\n",
       "      <td>0.463645</td>\n",
       "      <td>0.621614</td>\n",
       "      <td>0.614746</td>\n",
       "      <td>0.401539</td>\n",
       "      <td>0.840944</td>\n",
       "      <td>0.074929</td>\n",
       "      <td>0.523992</td>\n",
       "      <td>0.074633</td>\n",
       "      <td>0.005774</td>\n",
       "    </tr>\n",
       "    <tr>\n",
       "      <th>1786</th>\n",
       "      <td>0.838305</td>\n",
       "      <td>0.187315</td>\n",
       "      <td>0.668331</td>\n",
       "      <td>0.625653</td>\n",
       "      <td>0.694821</td>\n",
       "      <td>0.305795</td>\n",
       "      <td>0.505483</td>\n",
       "      <td>0.220637</td>\n",
       "      <td>0.973320</td>\n",
       "      <td>0.472144</td>\n",
       "      <td>...</td>\n",
       "      <td>0.863375</td>\n",
       "      <td>0.903354</td>\n",
       "      <td>0.090747</td>\n",
       "      <td>0.823878</td>\n",
       "      <td>0.833744</td>\n",
       "      <td>0.254442</td>\n",
       "      <td>0.854606</td>\n",
       "      <td>0.282577</td>\n",
       "      <td>0.124343</td>\n",
       "      <td>0.716000</td>\n",
       "    </tr>\n",
       "    <tr>\n",
       "      <th>...</th>\n",
       "      <td>...</td>\n",
       "      <td>...</td>\n",
       "      <td>...</td>\n",
       "      <td>...</td>\n",
       "      <td>...</td>\n",
       "      <td>...</td>\n",
       "      <td>...</td>\n",
       "      <td>...</td>\n",
       "      <td>...</td>\n",
       "      <td>...</td>\n",
       "      <td>...</td>\n",
       "      <td>...</td>\n",
       "      <td>...</td>\n",
       "      <td>...</td>\n",
       "      <td>...</td>\n",
       "      <td>...</td>\n",
       "      <td>...</td>\n",
       "      <td>...</td>\n",
       "      <td>...</td>\n",
       "      <td>...</td>\n",
       "      <td>...</td>\n",
       "    </tr>\n",
       "    <tr>\n",
       "      <th>3408</th>\n",
       "      <td>0.998848</td>\n",
       "      <td>0.085800</td>\n",
       "      <td>0.471002</td>\n",
       "      <td>0.409039</td>\n",
       "      <td>0.700793</td>\n",
       "      <td>0.540194</td>\n",
       "      <td>0.107416</td>\n",
       "      <td>0.102830</td>\n",
       "      <td>0.798725</td>\n",
       "      <td>0.773601</td>\n",
       "      <td>...</td>\n",
       "      <td>0.026062</td>\n",
       "      <td>0.044855</td>\n",
       "      <td>0.712999</td>\n",
       "      <td>0.918720</td>\n",
       "      <td>0.893730</td>\n",
       "      <td>0.286155</td>\n",
       "      <td>0.116346</td>\n",
       "      <td>0.535174</td>\n",
       "      <td>0.483603</td>\n",
       "      <td>0.914082</td>\n",
       "    </tr>\n",
       "    <tr>\n",
       "      <th>6336</th>\n",
       "      <td>0.662911</td>\n",
       "      <td>0.213004</td>\n",
       "      <td>0.723441</td>\n",
       "      <td>0.183560</td>\n",
       "      <td>0.722360</td>\n",
       "      <td>0.145670</td>\n",
       "      <td>0.330431</td>\n",
       "      <td>0.135678</td>\n",
       "      <td>0.996597</td>\n",
       "      <td>0.220519</td>\n",
       "      <td>...</td>\n",
       "      <td>0.144963</td>\n",
       "      <td>0.446426</td>\n",
       "      <td>0.148142</td>\n",
       "      <td>0.398983</td>\n",
       "      <td>0.215387</td>\n",
       "      <td>0.081686</td>\n",
       "      <td>0.622973</td>\n",
       "      <td>0.427959</td>\n",
       "      <td>0.442991</td>\n",
       "      <td>0.751608</td>\n",
       "    </tr>\n",
       "    <tr>\n",
       "      <th>1880</th>\n",
       "      <td>0.416949</td>\n",
       "      <td>0.271127</td>\n",
       "      <td>0.791953</td>\n",
       "      <td>0.508140</td>\n",
       "      <td>0.039867</td>\n",
       "      <td>0.257467</td>\n",
       "      <td>0.701436</td>\n",
       "      <td>0.249736</td>\n",
       "      <td>0.430972</td>\n",
       "      <td>0.918784</td>\n",
       "      <td>...</td>\n",
       "      <td>0.435077</td>\n",
       "      <td>0.629779</td>\n",
       "      <td>0.088950</td>\n",
       "      <td>0.311274</td>\n",
       "      <td>0.453839</td>\n",
       "      <td>0.558268</td>\n",
       "      <td>0.585202</td>\n",
       "      <td>0.938641</td>\n",
       "      <td>0.548909</td>\n",
       "      <td>0.466086</td>\n",
       "    </tr>\n",
       "    <tr>\n",
       "      <th>763</th>\n",
       "      <td>0.647500</td>\n",
       "      <td>0.127408</td>\n",
       "      <td>0.799678</td>\n",
       "      <td>0.626792</td>\n",
       "      <td>0.124441</td>\n",
       "      <td>0.137988</td>\n",
       "      <td>0.041683</td>\n",
       "      <td>0.283041</td>\n",
       "      <td>0.592727</td>\n",
       "      <td>0.516547</td>\n",
       "      <td>...</td>\n",
       "      <td>0.854014</td>\n",
       "      <td>0.113504</td>\n",
       "      <td>0.449887</td>\n",
       "      <td>0.768145</td>\n",
       "      <td>0.033564</td>\n",
       "      <td>0.712753</td>\n",
       "      <td>0.263060</td>\n",
       "      <td>0.514465</td>\n",
       "      <td>0.901452</td>\n",
       "      <td>0.073480</td>\n",
       "    </tr>\n",
       "    <tr>\n",
       "      <th>2631</th>\n",
       "      <td>0.795114</td>\n",
       "      <td>0.455362</td>\n",
       "      <td>0.362424</td>\n",
       "      <td>0.136987</td>\n",
       "      <td>0.434703</td>\n",
       "      <td>0.682724</td>\n",
       "      <td>0.324495</td>\n",
       "      <td>0.025517</td>\n",
       "      <td>0.901961</td>\n",
       "      <td>0.915626</td>\n",
       "      <td>...</td>\n",
       "      <td>0.546081</td>\n",
       "      <td>0.614907</td>\n",
       "      <td>0.510145</td>\n",
       "      <td>0.875002</td>\n",
       "      <td>0.102243</td>\n",
       "      <td>0.572923</td>\n",
       "      <td>0.600667</td>\n",
       "      <td>0.118417</td>\n",
       "      <td>0.279194</td>\n",
       "      <td>0.612196</td>\n",
       "    </tr>\n",
       "  </tbody>\n",
       "</table>\n",
       "<p>10000 rows × 100000 columns</p>\n",
       "</div>"
      ],
      "text/plain": [
       "         0         1         2         3         4         5         6      \\\n",
       "5777  0.013107  0.470582  0.782615  0.356561  0.713228  0.001639  0.531202   \n",
       "3783  0.960434  0.443701  0.571535  0.813105  0.448731  0.292695  0.378250   \n",
       "1295  0.145563  0.462142  0.170783  0.475111  0.200657  0.647372  0.260204   \n",
       "838   0.415516  0.027677  0.297519  0.258756  0.415945  0.530397  0.204964   \n",
       "1786  0.838305  0.187315  0.668331  0.625653  0.694821  0.305795  0.505483   \n",
       "...        ...       ...       ...       ...       ...       ...       ...   \n",
       "3408  0.998848  0.085800  0.471002  0.409039  0.700793  0.540194  0.107416   \n",
       "6336  0.662911  0.213004  0.723441  0.183560  0.722360  0.145670  0.330431   \n",
       "1880  0.416949  0.271127  0.791953  0.508140  0.039867  0.257467  0.701436   \n",
       "763   0.647500  0.127408  0.799678  0.626792  0.124441  0.137988  0.041683   \n",
       "2631  0.795114  0.455362  0.362424  0.136987  0.434703  0.682724  0.324495   \n",
       "\n",
       "         7         8         9      ...     99990     99991     99992  \\\n",
       "5777  0.149542  0.238533  0.156730  ...  0.014578  0.703602  0.121921   \n",
       "3783  0.988330  0.737386  0.240126  ...  0.865072  0.048426  0.556778   \n",
       "1295  0.386845  0.420123  0.275254  ...  0.038677  0.744098  0.731141   \n",
       "838   0.330645  0.675209  0.114403  ...  0.305023  0.463645  0.621614   \n",
       "1786  0.220637  0.973320  0.472144  ...  0.863375  0.903354  0.090747   \n",
       "...        ...       ...       ...  ...       ...       ...       ...   \n",
       "3408  0.102830  0.798725  0.773601  ...  0.026062  0.044855  0.712999   \n",
       "6336  0.135678  0.996597  0.220519  ...  0.144963  0.446426  0.148142   \n",
       "1880  0.249736  0.430972  0.918784  ...  0.435077  0.629779  0.088950   \n",
       "763   0.283041  0.592727  0.516547  ...  0.854014  0.113504  0.449887   \n",
       "2631  0.025517  0.901961  0.915626  ...  0.546081  0.614907  0.510145   \n",
       "\n",
       "         99993     99994     99995     99996     99997     99998     99999  \n",
       "5777  0.809777  0.141529  0.051837  0.615442  0.598923  0.463951  0.278275  \n",
       "3783  0.939422  0.430007  0.304750  0.629446  0.784474  0.027791  0.411822  \n",
       "1295  0.329909  0.280043  0.441809  0.997663  0.531609  0.461333  0.930565  \n",
       "838   0.614746  0.401539  0.840944  0.074929  0.523992  0.074633  0.005774  \n",
       "1786  0.823878  0.833744  0.254442  0.854606  0.282577  0.124343  0.716000  \n",
       "...        ...       ...       ...       ...       ...       ...       ...  \n",
       "3408  0.918720  0.893730  0.286155  0.116346  0.535174  0.483603  0.914082  \n",
       "6336  0.398983  0.215387  0.081686  0.622973  0.427959  0.442991  0.751608  \n",
       "1880  0.311274  0.453839  0.558268  0.585202  0.938641  0.548909  0.466086  \n",
       "763   0.768145  0.033564  0.712753  0.263060  0.514465  0.901452  0.073480  \n",
       "2631  0.875002  0.102243  0.572923  0.600667  0.118417  0.279194  0.612196  \n",
       "\n",
       "[10000 rows x 100000 columns]"
      ]
     },
     "execution_count": 2,
     "metadata": {},
     "output_type": "execute_result"
    }
   ],
   "source": [
    "# Number of columns\n",
    "w = 100000\n",
    "\n",
    "# Number of rows for df\n",
    "x = 10000 \n",
    "\n",
    "# Number of rows for df2\n",
    "y = 1000\n",
    "\n",
    "# Number of rows for df2\n",
    "z = 100\n",
    "\n",
    "# We fix the seed so that random number do not change everytime the script is launched\n",
    "np.random.seed(0)\n",
    "\n",
    "# Creating a dataframe with x number of rows and y number of columns\n",
    "df = pd.DataFrame(np.random.random_sample((x,w)))\n",
    "\n",
    "# Shuffle rows of dataframe\n",
    "df = df.sample(frac=1)\n",
    "df"
   ]
  },
  {
   "cell_type": "code",
   "execution_count": 3,
   "metadata": {},
   "outputs": [
    {
     "data": {
      "text/plain": [
       "'\\\\begin{table}\\n\\\\centering\\n\\\\caption{Dataframe}\\n\\\\label{Datraframe}\\n\\\\begin{tabular}{rrrr}\\n\\\\toprule\\n    1     &     2     &     99998 &     99999 \\\\\\\\\\n\\\\midrule\\n 0.470582 &  0.782615 &  0.463951 &  0.278275 \\\\\\\\\\n 0.443701 &  0.571535 &  0.027791 &  0.411822 \\\\\\\\\\n 0.462142 &  0.170783 &  0.461333 &  0.930565 \\\\\\\\\\n 0.027677 &  0.297519 &  0.074633 &  0.005774 \\\\\\\\\\n 0.187315 &  0.668331 &  0.124343 &  0.716000 \\\\\\\\\\n\\\\bottomrule\\n\\\\end{tabular}\\n\\\\end{table}\\n'"
      ]
     },
     "execution_count": 3,
     "metadata": {},
     "output_type": "execute_result"
    }
   ],
   "source": [
    "# Pass table header to latex\n",
    "df.head().to_latex(index=False,columns=[1,2,99998,99999], caption=\"Dataframe\", label=\"Datraframe\")"
   ]
  },
  {
   "cell_type": "markdown",
   "metadata": {},
   "source": [
    "In order to assess the correlations of the different parameters, correlations between the column with index 0 and the 999 other first columns is assessed."
   ]
  },
  {
   "cell_type": "code",
   "execution_count": 4,
   "metadata": {},
   "outputs": [
    {
     "name": "stdout",
     "output_type": "stream",
     "text": [
      "(10000, 99999) (10000,)\n"
     ]
    }
   ],
   "source": [
    "# Assigning X to all columns except 0\n",
    "X_df = df.drop(columns=0)\n",
    "X_df.head()\n",
    "\n",
    "# Assigning Y to column 0\n",
    "Y_df = df[0]\n",
    "\n",
    "# The following line makes Y become a list\n",
    "Y_df = np.array(Y_df).reshape(-1)\n",
    "print(X_df.shape,Y_df.shape)\n",
    "\n",
    "# Calculate correlations between selected column and column 0\n",
    "list_titles = X_df.columns\n",
    "list_corr_df = []\n",
    "for i in list_titles:\n",
    "    list_corr_df.append(abs(np.corrcoef(Y_df, X_df[i])[0][1]))"
   ]
  },
  {
   "cell_type": "markdown",
   "metadata": {},
   "source": [
    "To see how correlations between the different parameters changes due to the data size, the original dataframe is compared to sub-set dataframes which only takes the first y or z rows of the original dataframe."
   ]
  },
  {
   "cell_type": "code",
   "execution_count": 5,
   "metadata": {},
   "outputs": [
    {
     "name": "stdout",
     "output_type": "stream",
     "text": [
      "(1000, 99999) (1000,)\n"
     ]
    }
   ],
   "source": [
    "# Creating smaller dataframe taking y number of rows from original dataframe\n",
    "df2 = df.iloc[:y]\n",
    "\n",
    "# Assigning X to all columns except 0\n",
    "X_df2 = df2.drop(columns=0)\n",
    "X_df2.head()\n",
    "\n",
    "# Assigning Y to column 0\n",
    "Y_df2 = df2[0]\n",
    "\n",
    "# The following line makes Y become a list\n",
    "Y_df2 = np.array(Y_df2).reshape(-1)\n",
    "print(X_df2.shape,Y_df2.shape)\n",
    "\n",
    "list_titles = X_df2.columns\n",
    "\n",
    "# Calculate correlations between selected column and column 0\n",
    "list_corr_df2 = []\n",
    "for i in list_titles:\n",
    "    list_corr_df2.append(abs(np.corrcoef(Y_df2, X_df2[i])[0][1]))"
   ]
  },
  {
   "cell_type": "code",
   "execution_count": 6,
   "metadata": {},
   "outputs": [
    {
     "name": "stdout",
     "output_type": "stream",
     "text": [
      "(100, 99999) (100,)\n"
     ]
    }
   ],
   "source": [
    "# Creating smaller dataframe taking z number of rows from original dataframe\n",
    "df3 = df.iloc[:z]\n",
    "\n",
    "# Assigning X to all columns except 0\n",
    "X_df3 = df3.drop(columns=0)\n",
    "X_df3.head()\n",
    "\n",
    "# Assigning Y to column 0\n",
    "Y_df3 = df3[0]\n",
    "\n",
    "# The following line makes Y become a list\n",
    "Y_df3 = np.array(Y_df3).reshape(-1)\n",
    "print(X_df3.shape,Y_df3.shape)\n",
    "\n",
    "list_titles = X_df3.columns\n",
    "\n",
    "# Calculate correlations between selected column and column 0\n",
    "list_corr_df3 = []\n",
    "for i in list_titles:\n",
    "    list_corr_df3.append(abs(np.corrcoef(Y_df3, X_df3[i])[0][1]))"
   ]
  },
  {
   "cell_type": "markdown",
   "metadata": {},
   "source": [
    "We now compare which of the dataframes has the highest proportions of correlations."
   ]
  },
  {
   "cell_type": "code",
   "execution_count": 8,
   "metadata": {},
   "outputs": [
    {
     "name": "stdout",
     "output_type": "stream",
     "text": [
      "Check number of columns df: 99999\n",
      "Check number of rows df: 10000\n",
      "Percentage of correlations in df: 31.997319973199733 %\n",
      "\n",
      "Check number of columns df2: 99999\n",
      "Check number of rows df2: 1000\n",
      "Percentage of correlations in df2: 75.16475164751647 %\n",
      "\n",
      "Check number of columns df3: 99999\n",
      "Check number of rows df3: 100\n",
      "Percentage of correlations in df3: 92.07692076920769 %\n"
     ]
    }
   ],
   "source": [
    "a = 0\n",
    "b = 0\n",
    "c = 0\n",
    "\n",
    "for i in range(0,len(list_corr_df)):\n",
    "    if abs(list_corr_df[i]) > 0.01:\n",
    "        a+=1\n",
    "    else:\n",
    "        pass\n",
    "        \n",
    "for i in range(0,len(list_corr_df2)):\n",
    "    if abs(list_corr_df2[i]) > 0.01:\n",
    "        b+=1\n",
    "    else:\n",
    "        pass\n",
    "    \n",
    "for i in range(0,len(list_corr_df3)):\n",
    "    if abs(list_corr_df3[i]) > 0.01:\n",
    "        c+=1\n",
    "    else:\n",
    "        pass\n",
    "    \n",
    "print(\"Check number of columns df:\", len(X_df.columns))\n",
    "print(\"Check number of rows df:\", len(X_df))\n",
    "print(\"Percentage of correlations in df:\",(a/len(list_corr_df)*100),\"%\")\n",
    "print()\n",
    "print(\"Check number of columns df2:\", len(X_df2.columns))\n",
    "print(\"Check number of rows df2:\", len(X_df2))\n",
    "print(\"Percentage of correlations in df2:\",(b/len(list_corr_df2)*100),\"%\")\n",
    "print()\n",
    "print(\"Check number of columns df3:\", len(X_df3.columns))\n",
    "print(\"Check number of rows df3:\", len(X_df3))\n",
    "print(\"Percentage of correlations in df3:\",(c/len(list_corr_df3)*100),\"%\")"
   ]
  },
  {
   "cell_type": "markdown",
   "metadata": {},
   "source": [
    "Clearly it is seen that the lower the number of observations, the higher the frequency of spurious correlations. However the number of spurious correlations present in the bigger DataFrame is still very significant. This would mean that the dimensionality of the data also plays an important role for the precense of spurious correlations."
   ]
  },
  {
   "cell_type": "markdown",
   "metadata": {},
   "source": [
    "To counter spurious correlations, Principal Component Analysis and Random Projection can be used."
   ]
  },
  {
   "cell_type": "markdown",
   "metadata": {},
   "source": [
    "## Principal Component Analysis"
   ]
  },
  {
   "cell_type": "markdown",
   "metadata": {},
   "source": [
    "In PCA, it is up to the user to choose how many dimension the final data has. This is because the explained variance tells you how much information (variance) can be attributed to each of the principal components. This is important as while you can convert a y dimensional space to 2 dimensional space, you lose some of the variance (information) when you do this. It is up to the user to decide how much variance he is ready to lose. "
   ]
  },
  {
   "cell_type": "code",
   "execution_count": 11,
   "metadata": {},
   "outputs": [
    {
     "name": "stdout",
     "output_type": "stream",
     "text": [
      "[0.00015985 0.00015956]\n"
     ]
    }
   ],
   "source": [
    "# Here we pass the daframe of y columns in 2 dimensions\n",
    "pca = PCA(n_components=2)\n",
    "df_pca = pd.DataFrame(pca.fit_transform(df))\n",
    "\n",
    "# How much of the information is kept by the new dataframe?\n",
    "print(pca.explained_variance_ratio_)"
   ]
  },
  {
   "cell_type": "code",
   "execution_count": 12,
   "metadata": {},
   "outputs": [
    {
     "data": {
      "text/plain": [
       "0.0003197"
      ]
     },
     "execution_count": 12,
     "metadata": {},
     "output_type": "execute_result"
    }
   ],
   "source": [
    "0.00015985*2"
   ]
  },
  {
   "cell_type": "markdown",
   "metadata": {},
   "source": [
    "The new dataframe is not useful as it almost does not capture any variance (only 0.03%). Thus we need more dimensions."
   ]
  },
  {
   "cell_type": "code",
   "execution_count": 13,
   "metadata": {},
   "outputs": [
    {
     "name": "stdout",
     "output_type": "stream",
     "text": [
      "[0.00016387 0.00016353 0.00016323 0.00016313 0.00016284 0.00016265\n",
      " 0.00016251 0.00016239 0.00016217 0.00016212 0.00016195 0.00016172\n",
      " 0.0001616  0.00016143 0.00016135 0.00016132 0.00016116 0.00016094\n",
      " 0.0001608  0.0001607  0.00016066 0.00016045 0.00016043 0.00016028\n",
      " 0.00016019 0.00016013 0.00015997 0.00015979 0.00015973 0.00015955]\n"
     ]
    }
   ],
   "source": [
    "# Here we pass the daframe of y columns in 100 dimensions\n",
    "pca = PCA(n_components=100)\n",
    "df_pca = pd.DataFrame(pca.fit_transform(df))\n",
    "print(pca.explained_variance_ratio_)"
   ]
  },
  {
   "cell_type": "code",
   "execution_count": 14,
   "metadata": {},
   "outputs": [
    {
     "data": {
      "text/plain": [
       "0.016387"
      ]
     },
     "execution_count": 14,
     "metadata": {},
     "output_type": "execute_result"
    }
   ],
   "source": [
    "0.00016387*100"
   ]
  },
  {
   "cell_type": "markdown",
   "metadata": {},
   "source": [
    "The new dataframe explains only 1.63% of the variance. However it seems that everytime we multiple by 10 the number of columns, the variance is multiplied by by 10 too."
   ]
  },
  {
   "cell_type": "code",
   "execution_count": 15,
   "metadata": {},
   "outputs": [
    {
     "name": "stdout",
     "output_type": "stream",
     "text": [
      "[0.00016629 0.0001661  0.00016581 0.0001658  0.00016558 0.00016544\n",
      " 0.00016529 0.00016525 0.00016514 0.00016512 0.00016487 0.00016484\n",
      " 0.00016475 0.00016462 0.00016456 0.00016449 0.0001644  0.00016422 .........]\n"
     ]
    }
   ],
   "source": [
    "# Here we pass the daframe of y columns in 1000 dimensions\n",
    "pca = PCA(n_components=1000)\n",
    "df_pca = pd.DataFrame(pca.fit_transform(df))\n",
    "print(pca.explained_variance_ratio_)"
   ]
  },
  {
   "cell_type": "code",
   "execution_count": 16,
   "metadata": {},
   "outputs": [
    {
     "data": {
      "text/plain": [
       "0.16629000000000002"
      ]
     },
     "execution_count": 16,
     "metadata": {},
     "output_type": "execute_result"
    }
   ],
   "source": [
    "0.00016629*1000"
   ]
  },
  {
   "cell_type": "markdown",
   "metadata": {},
   "source": [
    "With 1000 Columns, the sum of all the variances is close to 10%, therefore appplying PCA on data with dimension 100000 and changing it to 10000 dimensions should effective as we see that the variance is multipled by 10 everytime the number of n_components is multiplied by 10 which would result with a variance close to 100%."
   ]
  },
  {
   "cell_type": "code",
   "execution_count": 17,
   "metadata": {},
   "outputs": [
    {
     "name": "stdout",
     "output_type": "stream",
     "text": [
      "(10000, 999) (10000,)\n"
     ]
    }
   ],
   "source": [
    "df_new = df_pca\n",
    "# Assigning X to all columns except 0\n",
    "X_df_new = df_new.drop(columns=0)\n",
    "\n",
    "# Assigning Y to column 0\n",
    "Y_df_new = df_new[0]\n",
    "\n",
    "# The following line makes Y become a list\n",
    "Y_df_new = np.array(Y_df_new).reshape(-1)\n",
    "print(X_df_new.shape,Y_df_new.shape)\n",
    "\n",
    "list_titles = X_df_new.columns\n",
    "\n",
    "# Calculate correlations between selected column and column 0\n",
    "list_corr_df_new = []\n",
    "for i in list_titles[0:len(list_titles)]:\n",
    "    list_corr_df_new.append(abs(np.corrcoef(Y_df_new, X_df_new[i])[0][1]))"
   ]
  },
  {
   "cell_type": "code",
   "execution_count": 18,
   "metadata": {},
   "outputs": [
    {
     "name": "stdout",
     "output_type": "stream",
     "text": [
      "Percentage of correlations in df1: 35.0 %\n",
      "Percentage of correlations in df_new: 0.0 %\n"
     ]
    }
   ],
   "source": [
    "a = 0\n",
    "b = 0\n",
    "for i in range(0,len(list_corr_df)):\n",
    "    if abs(list_corr_df[i]) > 0.01:\n",
    "        a+=1\n",
    "    else:\n",
    "        pass\n",
    "        \n",
    "for i in range(0,len(list_corr_df_new)):\n",
    "    if abs(list_corr_df_new[i]) > 0.01:\n",
    "        b+=1\n",
    "    else:\n",
    "        pass\n",
    "\n",
    "print(\"Percentage of correlations in df1:\",(a/len(list_corr_df)*100),\"%\")\n",
    "\n",
    "print(\"Percentage of correlations in df_new:\",(b/len(list_corr_df_new)*100),\"%\")"
   ]
  },
  {
   "cell_type": "markdown",
   "metadata": {},
   "source": [
    "The correlation of the original DataFrame is close to 0 when transformed through PCA."
   ]
  },
  {
   "cell_type": "markdown",
   "metadata": {},
   "source": [
    "PCA seems to be able to counter spurious correlations by reducing from dimension 100000 to 10000. However it is extremely computationally expensive therefore a faster method could be used, such a Random Projection."
   ]
  },
  {
   "cell_type": "markdown",
   "metadata": {},
   "source": [
    "## Random Projection"
   ]
  },
  {
   "cell_type": "markdown",
   "metadata": {},
   "source": [
    "In Random Projection, the parameter eps defines how much the Random Projection can deviate from original DataFrame.\n",
    "The lower the percentage of the parameter the higher the fidelity of the transformed data.\n",
    "However the higher the fidelity the less the reduction of dimensions."
   ]
  },
  {
   "cell_type": "code",
   "execution_count": 8,
   "metadata": {},
   "outputs": [
    {
     "data": {
      "text/html": [
       "<div>\n",
       "<style scoped>\n",
       "    .dataframe tbody tr th:only-of-type {\n",
       "        vertical-align: middle;\n",
       "    }\n",
       "\n",
       "    .dataframe tbody tr th {\n",
       "        vertical-align: top;\n",
       "    }\n",
       "\n",
       "    .dataframe thead th {\n",
       "        text-align: right;\n",
       "    }\n",
       "</style>\n",
       "<table border=\"1\" class=\"dataframe\">\n",
       "  <thead>\n",
       "    <tr style=\"text-align: right;\">\n",
       "      <th></th>\n",
       "      <th>0</th>\n",
       "      <th>1</th>\n",
       "      <th>2</th>\n",
       "      <th>3</th>\n",
       "      <th>4</th>\n",
       "      <th>5</th>\n",
       "      <th>6</th>\n",
       "      <th>7</th>\n",
       "      <th>8</th>\n",
       "      <th>9</th>\n",
       "      <th>...</th>\n",
       "      <th>7884</th>\n",
       "      <th>7885</th>\n",
       "      <th>7886</th>\n",
       "      <th>7887</th>\n",
       "      <th>7888</th>\n",
       "      <th>7889</th>\n",
       "      <th>7890</th>\n",
       "      <th>7891</th>\n",
       "      <th>7892</th>\n",
       "      <th>7893</th>\n",
       "    </tr>\n",
       "  </thead>\n",
       "  <tbody>\n",
       "    <tr>\n",
       "      <th>0</th>\n",
       "      <td>-0.302008</td>\n",
       "      <td>-0.068082</td>\n",
       "      <td>-2.166533</td>\n",
       "      <td>-1.586556</td>\n",
       "      <td>3.510537</td>\n",
       "      <td>-2.421297</td>\n",
       "      <td>3.879346</td>\n",
       "      <td>-0.302644</td>\n",
       "      <td>-0.041499</td>\n",
       "      <td>-2.723630</td>\n",
       "      <td>...</td>\n",
       "      <td>-0.526081</td>\n",
       "      <td>-1.870555</td>\n",
       "      <td>-0.515048</td>\n",
       "      <td>0.418709</td>\n",
       "      <td>0.155676</td>\n",
       "      <td>0.913438</td>\n",
       "      <td>-0.137671</td>\n",
       "      <td>-3.233703</td>\n",
       "      <td>1.908510</td>\n",
       "      <td>-0.569964</td>\n",
       "    </tr>\n",
       "    <tr>\n",
       "      <th>1</th>\n",
       "      <td>1.085679</td>\n",
       "      <td>-0.621856</td>\n",
       "      <td>-2.965446</td>\n",
       "      <td>-1.289220</td>\n",
       "      <td>1.607926</td>\n",
       "      <td>-1.067674</td>\n",
       "      <td>3.181879</td>\n",
       "      <td>-0.332075</td>\n",
       "      <td>-0.627533</td>\n",
       "      <td>-1.647495</td>\n",
       "      <td>...</td>\n",
       "      <td>-0.389697</td>\n",
       "      <td>-0.407165</td>\n",
       "      <td>-1.061195</td>\n",
       "      <td>-0.578337</td>\n",
       "      <td>0.758631</td>\n",
       "      <td>-0.507895</td>\n",
       "      <td>-1.746763</td>\n",
       "      <td>-2.337331</td>\n",
       "      <td>0.945448</td>\n",
       "      <td>-0.851532</td>\n",
       "    </tr>\n",
       "    <tr>\n",
       "      <th>2</th>\n",
       "      <td>2.036863</td>\n",
       "      <td>0.810359</td>\n",
       "      <td>-1.578479</td>\n",
       "      <td>-1.842556</td>\n",
       "      <td>4.341481</td>\n",
       "      <td>-0.939813</td>\n",
       "      <td>2.496344</td>\n",
       "      <td>-1.479995</td>\n",
       "      <td>-0.010654</td>\n",
       "      <td>-1.368587</td>\n",
       "      <td>...</td>\n",
       "      <td>-0.836032</td>\n",
       "      <td>-2.663172</td>\n",
       "      <td>-1.463469</td>\n",
       "      <td>1.097604</td>\n",
       "      <td>1.839424</td>\n",
       "      <td>1.041087</td>\n",
       "      <td>0.052026</td>\n",
       "      <td>-2.945125</td>\n",
       "      <td>1.497522</td>\n",
       "      <td>-0.118119</td>\n",
       "    </tr>\n",
       "    <tr>\n",
       "      <th>3</th>\n",
       "      <td>0.853745</td>\n",
       "      <td>0.209489</td>\n",
       "      <td>-0.653894</td>\n",
       "      <td>-1.438213</td>\n",
       "      <td>4.008682</td>\n",
       "      <td>-1.809010</td>\n",
       "      <td>3.742473</td>\n",
       "      <td>-0.741538</td>\n",
       "      <td>0.730524</td>\n",
       "      <td>-3.445020</td>\n",
       "      <td>...</td>\n",
       "      <td>-0.986869</td>\n",
       "      <td>-2.378565</td>\n",
       "      <td>-0.051288</td>\n",
       "      <td>1.374595</td>\n",
       "      <td>0.452994</td>\n",
       "      <td>1.046057</td>\n",
       "      <td>-1.582592</td>\n",
       "      <td>-0.549707</td>\n",
       "      <td>0.856490</td>\n",
       "      <td>-0.122405</td>\n",
       "    </tr>\n",
       "    <tr>\n",
       "      <th>4</th>\n",
       "      <td>-0.159262</td>\n",
       "      <td>-0.706281</td>\n",
       "      <td>-1.174776</td>\n",
       "      <td>-2.489145</td>\n",
       "      <td>2.734029</td>\n",
       "      <td>-2.368186</td>\n",
       "      <td>5.093136</td>\n",
       "      <td>-2.298969</td>\n",
       "      <td>0.974940</td>\n",
       "      <td>-2.009920</td>\n",
       "      <td>...</td>\n",
       "      <td>0.194942</td>\n",
       "      <td>-0.256983</td>\n",
       "      <td>0.133863</td>\n",
       "      <td>1.448755</td>\n",
       "      <td>2.124376</td>\n",
       "      <td>1.519730</td>\n",
       "      <td>0.872593</td>\n",
       "      <td>-1.599972</td>\n",
       "      <td>0.613540</td>\n",
       "      <td>-1.755886</td>\n",
       "    </tr>\n",
       "    <tr>\n",
       "      <th>...</th>\n",
       "      <td>...</td>\n",
       "      <td>...</td>\n",
       "      <td>...</td>\n",
       "      <td>...</td>\n",
       "      <td>...</td>\n",
       "      <td>...</td>\n",
       "      <td>...</td>\n",
       "      <td>...</td>\n",
       "      <td>...</td>\n",
       "      <td>...</td>\n",
       "      <td>...</td>\n",
       "      <td>...</td>\n",
       "      <td>...</td>\n",
       "      <td>...</td>\n",
       "      <td>...</td>\n",
       "      <td>...</td>\n",
       "      <td>...</td>\n",
       "      <td>...</td>\n",
       "      <td>...</td>\n",
       "      <td>...</td>\n",
       "      <td>...</td>\n",
       "    </tr>\n",
       "    <tr>\n",
       "      <th>9995</th>\n",
       "      <td>-0.785027</td>\n",
       "      <td>1.599259</td>\n",
       "      <td>-1.158546</td>\n",
       "      <td>-4.318470</td>\n",
       "      <td>3.890277</td>\n",
       "      <td>-0.086400</td>\n",
       "      <td>3.337646</td>\n",
       "      <td>-0.181822</td>\n",
       "      <td>-1.099291</td>\n",
       "      <td>-2.106602</td>\n",
       "      <td>...</td>\n",
       "      <td>-0.397556</td>\n",
       "      <td>-0.188547</td>\n",
       "      <td>-0.292251</td>\n",
       "      <td>0.881339</td>\n",
       "      <td>0.798065</td>\n",
       "      <td>1.866085</td>\n",
       "      <td>-1.619263</td>\n",
       "      <td>0.483374</td>\n",
       "      <td>2.026052</td>\n",
       "      <td>-0.395025</td>\n",
       "    </tr>\n",
       "    <tr>\n",
       "      <th>9996</th>\n",
       "      <td>0.287730</td>\n",
       "      <td>-0.654357</td>\n",
       "      <td>-0.580357</td>\n",
       "      <td>-2.476720</td>\n",
       "      <td>1.883245</td>\n",
       "      <td>-1.857241</td>\n",
       "      <td>3.788790</td>\n",
       "      <td>0.127083</td>\n",
       "      <td>-0.756120</td>\n",
       "      <td>-1.320422</td>\n",
       "      <td>...</td>\n",
       "      <td>0.334685</td>\n",
       "      <td>-2.676578</td>\n",
       "      <td>-0.910316</td>\n",
       "      <td>0.718175</td>\n",
       "      <td>1.226792</td>\n",
       "      <td>-0.783091</td>\n",
       "      <td>0.791722</td>\n",
       "      <td>-2.558282</td>\n",
       "      <td>1.897154</td>\n",
       "      <td>-2.681029</td>\n",
       "    </tr>\n",
       "    <tr>\n",
       "      <th>9997</th>\n",
       "      <td>-0.231346</td>\n",
       "      <td>0.441176</td>\n",
       "      <td>-1.393993</td>\n",
       "      <td>-1.232085</td>\n",
       "      <td>1.748469</td>\n",
       "      <td>-2.726565</td>\n",
       "      <td>2.460113</td>\n",
       "      <td>-1.598314</td>\n",
       "      <td>-1.596900</td>\n",
       "      <td>-2.540504</td>\n",
       "      <td>...</td>\n",
       "      <td>-0.734830</td>\n",
       "      <td>-0.157428</td>\n",
       "      <td>-0.363285</td>\n",
       "      <td>1.313989</td>\n",
       "      <td>-0.015197</td>\n",
       "      <td>0.103351</td>\n",
       "      <td>-0.522323</td>\n",
       "      <td>-0.394032</td>\n",
       "      <td>1.189327</td>\n",
       "      <td>-1.506372</td>\n",
       "    </tr>\n",
       "    <tr>\n",
       "      <th>9998</th>\n",
       "      <td>2.160462</td>\n",
       "      <td>-0.746765</td>\n",
       "      <td>0.152266</td>\n",
       "      <td>-2.963119</td>\n",
       "      <td>3.092495</td>\n",
       "      <td>-1.738957</td>\n",
       "      <td>2.788696</td>\n",
       "      <td>-4.040584</td>\n",
       "      <td>-1.815706</td>\n",
       "      <td>-3.396164</td>\n",
       "      <td>...</td>\n",
       "      <td>-1.344430</td>\n",
       "      <td>-1.284020</td>\n",
       "      <td>-1.864767</td>\n",
       "      <td>1.216307</td>\n",
       "      <td>0.866234</td>\n",
       "      <td>0.888831</td>\n",
       "      <td>-1.280773</td>\n",
       "      <td>-3.071721</td>\n",
       "      <td>0.902930</td>\n",
       "      <td>-2.393207</td>\n",
       "    </tr>\n",
       "    <tr>\n",
       "      <th>9999</th>\n",
       "      <td>-0.279601</td>\n",
       "      <td>0.572601</td>\n",
       "      <td>-2.454676</td>\n",
       "      <td>-2.340935</td>\n",
       "      <td>4.013656</td>\n",
       "      <td>-1.296355</td>\n",
       "      <td>1.855094</td>\n",
       "      <td>-1.460061</td>\n",
       "      <td>-1.786897</td>\n",
       "      <td>-2.305595</td>\n",
       "      <td>...</td>\n",
       "      <td>2.364886</td>\n",
       "      <td>-0.397213</td>\n",
       "      <td>-0.744895</td>\n",
       "      <td>1.336309</td>\n",
       "      <td>0.560102</td>\n",
       "      <td>0.652312</td>\n",
       "      <td>-2.175519</td>\n",
       "      <td>-0.767835</td>\n",
       "      <td>3.967625</td>\n",
       "      <td>-0.324088</td>\n",
       "    </tr>\n",
       "  </tbody>\n",
       "</table>\n",
       "<p>10000 rows × 7894 columns</p>\n",
       "</div>"
      ],
      "text/plain": [
       "          0         1         2         3         4         5         6     \\\n",
       "0    -0.302008 -0.068082 -2.166533 -1.586556  3.510537 -2.421297  3.879346   \n",
       "1     1.085679 -0.621856 -2.965446 -1.289220  1.607926 -1.067674  3.181879   \n",
       "2     2.036863  0.810359 -1.578479 -1.842556  4.341481 -0.939813  2.496344   \n",
       "3     0.853745  0.209489 -0.653894 -1.438213  4.008682 -1.809010  3.742473   \n",
       "4    -0.159262 -0.706281 -1.174776 -2.489145  2.734029 -2.368186  5.093136   \n",
       "...        ...       ...       ...       ...       ...       ...       ...   \n",
       "9995 -0.785027  1.599259 -1.158546 -4.318470  3.890277 -0.086400  3.337646   \n",
       "9996  0.287730 -0.654357 -0.580357 -2.476720  1.883245 -1.857241  3.788790   \n",
       "9997 -0.231346  0.441176 -1.393993 -1.232085  1.748469 -2.726565  2.460113   \n",
       "9998  2.160462 -0.746765  0.152266 -2.963119  3.092495 -1.738957  2.788696   \n",
       "9999 -0.279601  0.572601 -2.454676 -2.340935  4.013656 -1.296355  1.855094   \n",
       "\n",
       "          7         8         9     ...      7884      7885      7886  \\\n",
       "0    -0.302644 -0.041499 -2.723630  ... -0.526081 -1.870555 -0.515048   \n",
       "1    -0.332075 -0.627533 -1.647495  ... -0.389697 -0.407165 -1.061195   \n",
       "2    -1.479995 -0.010654 -1.368587  ... -0.836032 -2.663172 -1.463469   \n",
       "3    -0.741538  0.730524 -3.445020  ... -0.986869 -2.378565 -0.051288   \n",
       "4    -2.298969  0.974940 -2.009920  ...  0.194942 -0.256983  0.133863   \n",
       "...        ...       ...       ...  ...       ...       ...       ...   \n",
       "9995 -0.181822 -1.099291 -2.106602  ... -0.397556 -0.188547 -0.292251   \n",
       "9996  0.127083 -0.756120 -1.320422  ...  0.334685 -2.676578 -0.910316   \n",
       "9997 -1.598314 -1.596900 -2.540504  ... -0.734830 -0.157428 -0.363285   \n",
       "9998 -4.040584 -1.815706 -3.396164  ... -1.344430 -1.284020 -1.864767   \n",
       "9999 -1.460061 -1.786897 -2.305595  ...  2.364886 -0.397213 -0.744895   \n",
       "\n",
       "          7887      7888      7889      7890      7891      7892      7893  \n",
       "0     0.418709  0.155676  0.913438 -0.137671 -3.233703  1.908510 -0.569964  \n",
       "1    -0.578337  0.758631 -0.507895 -1.746763 -2.337331  0.945448 -0.851532  \n",
       "2     1.097604  1.839424  1.041087  0.052026 -2.945125  1.497522 -0.118119  \n",
       "3     1.374595  0.452994  1.046057 -1.582592 -0.549707  0.856490 -0.122405  \n",
       "4     1.448755  2.124376  1.519730  0.872593 -1.599972  0.613540 -1.755886  \n",
       "...        ...       ...       ...       ...       ...       ...       ...  \n",
       "9995  0.881339  0.798065  1.866085 -1.619263  0.483374  2.026052 -0.395025  \n",
       "9996  0.718175  1.226792 -0.783091  0.791722 -2.558282  1.897154 -2.681029  \n",
       "9997  1.313989 -0.015197  0.103351 -0.522323 -0.394032  1.189327 -1.506372  \n",
       "9998  1.216307  0.866234  0.888831 -1.280773 -3.071721  0.902930 -2.393207  \n",
       "9999  1.336309  0.560102  0.652312 -2.175519 -0.767835  3.967625 -0.324088  \n",
       "\n",
       "[10000 rows x 7894 columns]"
      ]
     },
     "execution_count": 8,
     "metadata": {},
     "output_type": "execute_result"
    }
   ],
   "source": [
    "# Pass df in the random projection to create a new reduced DataFrame\n",
    "transformer = random_projection.GaussianRandomProjection(eps = 0.1)\n",
    "df_new = pd.DataFrame(transformer.fit_transform(df))\n",
    "df_new"
   ]
  },
  {
   "cell_type": "code",
   "execution_count": 9,
   "metadata": {
    "scrolled": true
   },
   "outputs": [
    {
     "name": "stdout",
     "output_type": "stream",
     "text": [
      "0      -0.302008\n",
      "1       1.085679\n",
      "2       2.036863\n",
      "3       0.853745\n",
      "4      -0.159262\n",
      "          ...   \n",
      "9995   -0.785027\n",
      "9996    0.287730\n",
      "9997   -0.231346\n",
      "9998    2.160462\n",
      "9999   -0.279601\n",
      "Name: 0, Length: 10000, dtype: float64\n",
      "(10000, 7893) (10000,)\n"
     ]
    }
   ],
   "source": [
    "# Assigning X to all columns except 0\n",
    "X_df_new = df_new.drop(columns=0)\n",
    "\n",
    "# Assigning Y to column 0\n",
    "Y_df_new = df_new[0]\n",
    "\n",
    "\n",
    "# The following line makes Y become a list\n",
    "Y_df_new = np.array(Y_df_new).reshape(-1)\n",
    "print(X_df_new.shape,Y_df_new.shape)\n",
    "\n",
    "list_titles = X_df_new.columns\n",
    "\n",
    "list_corr_df_new = []\n",
    "for i in list_titles[0:len(list_titles)]:\n",
    "    list_corr_df_new.append(abs(np.corrcoef(Y_df_new, X_df_new[i])[0][1]))"
   ]
  },
  {
   "cell_type": "code",
   "execution_count": 10,
   "metadata": {},
   "outputs": [
    {
     "name": "stdout",
     "output_type": "stream",
     "text": [
      "Percentage of correlations in df1: 39.0 %\n",
      "Percentage of correlations in df_new: 34.01748384644622 %\n"
     ]
    }
   ],
   "source": [
    "a = 0\n",
    "b = 0\n",
    "for i in range(0,len(list_corr_df1)):\n",
    "    if abs(list_corr_df1[i]) > 0.01:\n",
    "        a+=1\n",
    "    else:\n",
    "        pass\n",
    "        \n",
    "for i in range(0,len(list_corr_df_new)):\n",
    "    if abs(list_corr_df_new[i]) > 0.01:\n",
    "        b+=1\n",
    "    else:\n",
    "        pass\n",
    "\n",
    "print(\"Percentage of correlations in df1:\",(a/len(list_corr_df1)*100),\"%\")\n",
    "\n",
    "print(\"Percentage of correlations in df_new:\",(b/len(list_corr_df_new)*100),\"%\")"
   ]
  },
  {
   "cell_type": "markdown",
   "metadata": {},
   "source": [
    "Random Projection seems to have a slight effect on the correlations, however the number of spurious correlations is still significant which would mean that either the number of dimensions has to be increased to augment the efficiency of the method. Otherwise sacrificing some data fidelity through a higher distortion defined in the parameter eps is another possibility."
   ]
  },
  {
   "cell_type": "markdown",
   "metadata": {},
   "source": [
    "## Conclusion"
   ]
  },
  {
   "cell_type": "markdown",
   "metadata": {},
   "source": [
    "Spurious correlations can be avoided in Big Data thanks to Dimension Reduction methods.\n",
    "\n",
    "PCA is very precise but extremely computationally expensive due to high dimensionality.\n",
    "\n",
    "Random Projection is very quick but lacks precision due to trade off between distortion and correlation.\n",
    "\n",
    "Future research could find another algorithm which is suitable for high dimensional data which is quick, reliable and does not distort the data."
   ]
  },
  {
   "cell_type": "code",
   "execution_count": null,
   "metadata": {},
   "outputs": [],
   "source": []
  }
 ],
 "metadata": {
  "kernelspec": {
   "display_name": "Python 3",
   "language": "python",
   "name": "python3"
  },
  "language_info": {
   "codemirror_mode": {
    "name": "ipython",
    "version": 3
   },
   "file_extension": ".py",
   "mimetype": "text/x-python",
   "name": "python",
   "nbconvert_exporter": "python",
   "pygments_lexer": "ipython3",
   "version": "3.7.4"
  }
 },
 "nbformat": 4,
 "nbformat_minor": 2
}
